{
 "cells": [
  {
   "cell_type": "code",
   "execution_count": 27,
   "metadata": {},
   "outputs": [],
   "source": [
    "! start sandman2ctl -l -d \"sqlite+pysqlite:///./db.sqlite3\""
   ]
  },
  {
   "cell_type": "code",
   "execution_count": 28,
   "metadata": {},
   "outputs": [
    {
     "name": "stdout",
     "output_type": "stream",
     "text": [
      "[\n",
      "  {\n",
      "    \"BillingAddress\": \"Theodor-Heuss-Stra\\u00dfe 34\", \n",
      "    \"BillingCity\": \"Stuttgart\", \n",
      "    \"BillingCountry\": \"Germany\", \n",
      "    \"BillingPostalCode\": \"70174\", \n",
      "    \"BillingState\": null, \n",
      "    \"CustomerId\": 2, \n",
      "    \"InvoiceDate\": \"2009-01-01T00:00:00\", \n",
      "    \"InvoiceId\": 1, \n",
      "    \"Total\": 1.98\n",
      "  }, \n",
      "  {\n",
      "    \"BillingAddress\": \"Ullev\\u00e5lsveien 14\", \n",
      "    \"BillingCity\": \"Oslo\", \n",
      "    \"BillingCountry\": \"Norway\", \n",
      "    \"BillingPostalCode\": \"0171\", \n",
      "    \"BillingState\": null, \n",
      "    \"CustomerId\": 4, \n",
      "    \"InvoiceDate\": \"2009-01-02T00:00:00\", \n",
      "    \"InvoiceId\": 2, \n",
      "    \"Total\": 3.96\n",
      "  }\n",
      "]\n"
     ]
    }
   ],
   "source": [
    "! curl -s \"http://localhost:5000/invoice/?collection&limit=2\""
   ]
  },
  {
   "cell_type": "code",
   "execution_count": 31,
   "metadata": {},
   "outputs": [
    {
     "name": "stdout",
     "output_type": "stream",
     "text": [
      "[\n",
      "  {\n",
      "    \"BillingAddress\": \"Ullev\\u00e5lsveien 14\", \n",
      "    \"BillingCity\": \"Oslo\", \n",
      "    \"BillingCountry\": \"Norway\", \n",
      "    \"BillingPostalCode\": \"0171\", \n",
      "    \"BillingState\": null, \n",
      "    \"CustomerId\": 4, \n",
      "    \"InvoiceDate\": \"2009-01-02T00:00:00\", \n",
      "    \"InvoiceId\": 2, \n",
      "    \"Total\": 3.96\n",
      "  }, \n",
      "  {\n",
      "    \"BillingAddress\": \"8210 111 ST NW\", \n",
      "    \"BillingCity\": \"Edmonton\", \n",
      "    \"BillingCountry\": \"Canada\", \n",
      "    \"BillingPostalCode\": \"T6G 2C7\", \n",
      "    \"BillingState\": \"AB\", \n",
      "    \"CustomerId\": 14, \n",
      "    \"InvoiceDate\": \"2009-01-06T00:00:00\", \n",
      "    \"InvoiceId\": 4, \n",
      "    \"Total\": 8.91\n",
      "  }\n",
      "]\n"
     ]
    }
   ],
   "source": [
    "! curl -s \"http://localhost:5000/invoice/?InvoiceId=2|4&InvoiceDate=DATE,2009-01-01,2009-02-27&collection\""
   ]
  },
  {
   "cell_type": "code",
   "execution_count": 1,
   "metadata": {},
   "outputs": [],
   "source": [
    "from sqlalchemy import create_engine, MetaData, Table\n",
    "from sqlalchemy.orm import mapper, sessionmaker\n",
    "class Invoice(object):\n",
    "    pass\n",
    "#----------------------------------------------------------------------\n",
    "def loadSession():\n",
    "    \"\"\"\"\"\"    \n",
    "    dbPath = './db.sqlite3'\n",
    "    engine = create_engine('sqlite:///%s' % dbPath, echo=True)\n",
    "    \n",
    "    metadata = MetaData(engine)\n",
    "    invoice = Table('Invoice', metadata, autoload=True)\n",
    "    mapper(Invoice, invoice)\n",
    "    \n",
    "    Session = sessionmaker(bind=engine)\n",
    "    session = Session()\n",
    "    return session"
   ]
  },
  {
   "cell_type": "code",
   "execution_count": 2,
   "metadata": {},
   "outputs": [
    {
     "name": "stdout",
     "output_type": "stream",
     "text": [
      "2020-08-18 09:59:36,775 INFO sqlalchemy.engine.base.Engine SELECT CAST('test plain returns' AS VARCHAR(60)) AS anon_1\n",
      "2020-08-18 09:59:36,778 INFO sqlalchemy.engine.base.Engine ()\n",
      "2020-08-18 09:59:36,779 INFO sqlalchemy.engine.base.Engine SELECT CAST('test unicode returns' AS VARCHAR(60)) AS anon_1\n",
      "2020-08-18 09:59:36,779 INFO sqlalchemy.engine.base.Engine ()\n",
      "2020-08-18 09:59:36,781 INFO sqlalchemy.engine.base.Engine PRAGMA main.table_info(\"Invoice\")\n",
      "2020-08-18 09:59:36,782 INFO sqlalchemy.engine.base.Engine ()\n",
      "2020-08-18 09:59:36,785 INFO sqlalchemy.engine.base.Engine SELECT sql FROM  (SELECT * FROM sqlite_master UNION ALL   SELECT * FROM sqlite_temp_master) WHERE name = 'Invoice' AND type = 'table'\n",
      "2020-08-18 09:59:36,786 INFO sqlalchemy.engine.base.Engine ()\n",
      "2020-08-18 09:59:36,788 INFO sqlalchemy.engine.base.Engine PRAGMA main.foreign_key_list(\"Invoice\")\n",
      "2020-08-18 09:59:36,789 INFO sqlalchemy.engine.base.Engine ()\n",
      "2020-08-18 09:59:36,790 INFO sqlalchemy.engine.base.Engine SELECT sql FROM  (SELECT * FROM sqlite_master UNION ALL   SELECT * FROM sqlite_temp_master) WHERE name = 'Invoice' AND type = 'table'\n",
      "2020-08-18 09:59:36,791 INFO sqlalchemy.engine.base.Engine ()\n",
      "2020-08-18 09:59:36,794 INFO sqlalchemy.engine.base.Engine PRAGMA main.table_info(\"Customer\")\n",
      "2020-08-18 09:59:36,795 INFO sqlalchemy.engine.base.Engine ()\n",
      "2020-08-18 09:59:36,798 INFO sqlalchemy.engine.base.Engine SELECT sql FROM  (SELECT * FROM sqlite_master UNION ALL   SELECT * FROM sqlite_temp_master) WHERE name = 'Customer' AND type = 'table'\n",
      "2020-08-18 09:59:36,799 INFO sqlalchemy.engine.base.Engine ()\n",
      "2020-08-18 09:59:36,800 INFO sqlalchemy.engine.base.Engine PRAGMA main.foreign_key_list(\"Customer\")\n",
      "2020-08-18 09:59:36,801 INFO sqlalchemy.engine.base.Engine ()\n",
      "2020-08-18 09:59:36,802 INFO sqlalchemy.engine.base.Engine SELECT sql FROM  (SELECT * FROM sqlite_master UNION ALL   SELECT * FROM sqlite_temp_master) WHERE name = 'Customer' AND type = 'table'\n",
      "2020-08-18 09:59:36,803 INFO sqlalchemy.engine.base.Engine ()\n",
      "2020-08-18 09:59:36,804 INFO sqlalchemy.engine.base.Engine PRAGMA main.table_info(\"Employee\")\n",
      "2020-08-18 09:59:36,805 INFO sqlalchemy.engine.base.Engine ()\n",
      "2020-08-18 09:59:36,808 INFO sqlalchemy.engine.base.Engine SELECT sql FROM  (SELECT * FROM sqlite_master UNION ALL   SELECT * FROM sqlite_temp_master) WHERE name = 'Employee' AND type = 'table'\n",
      "2020-08-18 09:59:36,808 INFO sqlalchemy.engine.base.Engine ()\n",
      "2020-08-18 09:59:36,810 INFO sqlalchemy.engine.base.Engine PRAGMA main.foreign_key_list(\"Employee\")\n",
      "2020-08-18 09:59:36,811 INFO sqlalchemy.engine.base.Engine ()\n",
      "2020-08-18 09:59:36,812 INFO sqlalchemy.engine.base.Engine SELECT sql FROM  (SELECT * FROM sqlite_master UNION ALL   SELECT * FROM sqlite_temp_master) WHERE name = 'Employee' AND type = 'table'\n",
      "2020-08-18 09:59:36,812 INFO sqlalchemy.engine.base.Engine ()\n",
      "2020-08-18 09:59:36,814 INFO sqlalchemy.engine.base.Engine PRAGMA main.index_list(\"Employee\")\n",
      "2020-08-18 09:59:36,814 INFO sqlalchemy.engine.base.Engine ()\n",
      "2020-08-18 09:59:36,816 INFO sqlalchemy.engine.base.Engine PRAGMA main.index_info(\"IFK_EmployeeReportsTo\")\n",
      "2020-08-18 09:59:36,816 INFO sqlalchemy.engine.base.Engine ()\n",
      "2020-08-18 09:59:36,817 INFO sqlalchemy.engine.base.Engine PRAGMA main.index_info(\"IPK_Employee\")\n",
      "2020-08-18 09:59:36,818 INFO sqlalchemy.engine.base.Engine ()\n",
      "2020-08-18 09:59:36,820 INFO sqlalchemy.engine.base.Engine PRAGMA main.index_list(\"Employee\")\n",
      "2020-08-18 09:59:36,820 INFO sqlalchemy.engine.base.Engine ()\n",
      "2020-08-18 09:59:36,822 INFO sqlalchemy.engine.base.Engine PRAGMA main.index_info(\"IFK_EmployeeReportsTo\")\n",
      "2020-08-18 09:59:36,823 INFO sqlalchemy.engine.base.Engine ()\n",
      "2020-08-18 09:59:36,824 INFO sqlalchemy.engine.base.Engine PRAGMA main.index_info(\"IPK_Employee\")\n",
      "2020-08-18 09:59:36,824 INFO sqlalchemy.engine.base.Engine ()\n",
      "2020-08-18 09:59:36,826 INFO sqlalchemy.engine.base.Engine SELECT sql FROM  (SELECT * FROM sqlite_master UNION ALL   SELECT * FROM sqlite_temp_master) WHERE name = 'Employee' AND type = 'table'\n",
      "2020-08-18 09:59:36,826 INFO sqlalchemy.engine.base.Engine ()\n",
      "2020-08-18 09:59:36,829 INFO sqlalchemy.engine.base.Engine PRAGMA main.index_list(\"Customer\")\n",
      "2020-08-18 09:59:36,830 INFO sqlalchemy.engine.base.Engine ()\n",
      "2020-08-18 09:59:36,831 INFO sqlalchemy.engine.base.Engine PRAGMA main.index_info(\"IFK_CustomerSupportRepId\")\n",
      "2020-08-18 09:59:36,832 INFO sqlalchemy.engine.base.Engine ()\n",
      "2020-08-18 09:59:36,833 INFO sqlalchemy.engine.base.Engine PRAGMA main.index_info(\"IPK_Customer\")\n",
      "2020-08-18 09:59:36,834 INFO sqlalchemy.engine.base.Engine ()\n",
      "2020-08-18 09:59:36,836 INFO sqlalchemy.engine.base.Engine PRAGMA main.index_list(\"Customer\")\n",
      "2020-08-18 09:59:36,837 INFO sqlalchemy.engine.base.Engine ()\n",
      "2020-08-18 09:59:36,838 INFO sqlalchemy.engine.base.Engine PRAGMA main.index_info(\"IFK_CustomerSupportRepId\")\n",
      "2020-08-18 09:59:36,838 INFO sqlalchemy.engine.base.Engine ()\n",
      "2020-08-18 09:59:36,839 INFO sqlalchemy.engine.base.Engine PRAGMA main.index_info(\"IPK_Customer\")\n",
      "2020-08-18 09:59:36,840 INFO sqlalchemy.engine.base.Engine ()\n",
      "2020-08-18 09:59:36,841 INFO sqlalchemy.engine.base.Engine SELECT sql FROM  (SELECT * FROM sqlite_master UNION ALL   SELECT * FROM sqlite_temp_master) WHERE name = 'Customer' AND type = 'table'\n",
      "2020-08-18 09:59:36,841 INFO sqlalchemy.engine.base.Engine ()\n",
      "2020-08-18 09:59:36,843 INFO sqlalchemy.engine.base.Engine PRAGMA main.index_list(\"Invoice\")\n",
      "2020-08-18 09:59:36,844 INFO sqlalchemy.engine.base.Engine ()\n",
      "2020-08-18 09:59:36,845 INFO sqlalchemy.engine.base.Engine PRAGMA main.index_info(\"IFK_InvoiceCustomerId\")\n",
      "2020-08-18 09:59:36,846 INFO sqlalchemy.engine.base.Engine ()\n",
      "2020-08-18 09:59:36,848 INFO sqlalchemy.engine.base.Engine PRAGMA main.index_info(\"IPK_Invoice\")\n",
      "2020-08-18 09:59:36,848 INFO sqlalchemy.engine.base.Engine ()\n",
      "2020-08-18 09:59:36,850 INFO sqlalchemy.engine.base.Engine PRAGMA main.index_list(\"Invoice\")\n",
      "2020-08-18 09:59:36,851 INFO sqlalchemy.engine.base.Engine ()\n",
      "2020-08-18 09:59:36,852 INFO sqlalchemy.engine.base.Engine PRAGMA main.index_info(\"IFK_InvoiceCustomerId\")\n",
      "2020-08-18 09:59:36,852 INFO sqlalchemy.engine.base.Engine ()\n",
      "2020-08-18 09:59:36,853 INFO sqlalchemy.engine.base.Engine PRAGMA main.index_info(\"IPK_Invoice\")\n",
      "2020-08-18 09:59:36,854 INFO sqlalchemy.engine.base.Engine ()\n",
      "2020-08-18 09:59:36,855 INFO sqlalchemy.engine.base.Engine SELECT sql FROM  (SELECT * FROM sqlite_master UNION ALL   SELECT * FROM sqlite_temp_master) WHERE name = 'Invoice' AND type = 'table'\n",
      "2020-08-18 09:59:36,856 INFO sqlalchemy.engine.base.Engine ()\n"
     ]
    }
   ],
   "source": [
    "session = loadSession()"
   ]
  },
  {
   "cell_type": "code",
   "execution_count": null,
   "metadata": {},
   "outputs": [],
   "source": []
  },
  {
   "cell_type": "code",
   "execution_count": 36,
   "metadata": {},
   "outputs": [],
   "source": [
    "from sqlalchemy.sql import func,text"
   ]
  },
  {
   "cell_type": "code",
   "execution_count": 38,
   "metadata": {},
   "outputs": [
    {
     "name": "stdout",
     "output_type": "stream",
     "text": [
      "2020-08-18 10:21:07,944 INFO sqlalchemy.engine.base.Engine SELECT \"Invoice\".\"InvoiceId\" AS \"Invoice_InvoiceId\", \"Invoice\".\"CustomerId\" AS \"Invoice_CustomerId\", \"Invoice\".\"InvoiceDate\" AS \"Invoice_InvoiceDate\", \"Invoice\".\"BillingAddress\" AS \"Invoice_BillingAddress\", \"Invoice\".\"BillingCity\" AS \"Invoice_BillingCity\", \"Invoice\".\"BillingState\" AS \"Invoice_BillingState\", \"Invoice\".\"BillingCountry\" AS \"Invoice_BillingCountry\", \"Invoice\".\"BillingPostalCode\" AS \"Invoice_BillingPostalCode\", \"Invoice\".\"Total\" AS \"Invoice_Total\" \n",
      "FROM \"Invoice\" \n",
      "WHERE BillingCountry == \"Canada\"\n",
      "2020-08-18 10:21:07,945 INFO sqlalchemy.engine.base.Engine ()\n"
     ]
    },
    {
     "data": {
      "text/plain": [
       "[<__main__.Invoice at 0x120e4929cd0>,\n",
       " <__main__.Invoice at 0x120e43e12e0>,\n",
       " <__main__.Invoice at 0x120e43e17f0>,\n",
       " <__main__.Invoice at 0x120e4a1a4c0>,\n",
       " <__main__.Invoice at 0x120e4a1ad00>,\n",
       " <__main__.Invoice at 0x120e4a1adc0>,\n",
       " <__main__.Invoice at 0x120e4a1ae80>,\n",
       " <__main__.Invoice at 0x120e4a1af40>,\n",
       " <__main__.Invoice at 0x120e4a1f7c0>,\n",
       " <__main__.Invoice at 0x120e49bc040>,\n",
       " <__main__.Invoice at 0x120e49b5100>,\n",
       " <__main__.Invoice at 0x120e49b54c0>,\n",
       " <__main__.Invoice at 0x120e49b5700>,\n",
       " <__main__.Invoice at 0x120e49b5d00>,\n",
       " <__main__.Invoice at 0x120e49cf1c0>,\n",
       " <__main__.Invoice at 0x120e49cfe80>,\n",
       " <__main__.Invoice at 0x120e49c8880>,\n",
       " <__main__.Invoice at 0x120e49c8940>,\n",
       " <__main__.Invoice at 0x120e49c8a00>,\n",
       " <__main__.Invoice at 0x120e49d2040>,\n",
       " <__main__.Invoice at 0x120e49d2280>,\n",
       " <__main__.Invoice at 0x120e49d2700>,\n",
       " <__main__.Invoice at 0x120e49d2a00>,\n",
       " <__main__.Invoice at 0x120e49d2ac0>,\n",
       " <__main__.Invoice at 0x120e49b0100>,\n",
       " <__main__.Invoice at 0x120e49b0280>,\n",
       " <__main__.Invoice at 0x120e49b0b80>,\n",
       " <__main__.Invoice at 0x120e49cac40>,\n",
       " <__main__.Invoice at 0x120e49ac880>,\n",
       " <__main__.Invoice at 0x120e49ac940>,\n",
       " <__main__.Invoice at 0x120e49acc40>,\n",
       " <__main__.Invoice at 0x120e49a0340>,\n",
       " <__main__.Invoice at 0x120e49a0400>,\n",
       " <__main__.Invoice at 0x120e49a0ac0>,\n",
       " <__main__.Invoice at 0x120e42aa4c0>,\n",
       " <__main__.Invoice at 0x120e42aa580>,\n",
       " <__main__.Invoice at 0x120e42aab80>,\n",
       " <__main__.Invoice at 0x120e42aad00>,\n",
       " <__main__.Invoice at 0x120e42be640>,\n",
       " <__main__.Invoice at 0x120e42be940>,\n",
       " <__main__.Invoice at 0x120e42c9ac0>,\n",
       " <__main__.Invoice at 0x120e42b8340>,\n",
       " <__main__.Invoice at 0x120e42b8700>,\n",
       " <__main__.Invoice at 0x120e42b8b80>,\n",
       " <__main__.Invoice at 0x120e42b8dc0>,\n",
       " <__main__.Invoice at 0x120e42b8e80>,\n",
       " <__main__.Invoice at 0x120e42a74c0>,\n",
       " <__main__.Invoice at 0x120e42a7d00>,\n",
       " <__main__.Invoice at 0x120e42a7e80>,\n",
       " <__main__.Invoice at 0x120e42a7f40>,\n",
       " <__main__.Invoice at 0x120e42c1040>,\n",
       " <__main__.Invoice at 0x120e42c17c0>,\n",
       " <__main__.Invoice at 0x120e42a5040>,\n",
       " <__main__.Invoice at 0x120e42a5100>,\n",
       " <__main__.Invoice at 0x120e42a5340>,\n",
       " <__main__.Invoice at 0x120e42b9100>]"
      ]
     },
     "execution_count": 38,
     "metadata": {},
     "output_type": "execute_result"
    }
   ],
   "source": [
    "session.query(Invoice).filter(text('BillingCountry == \"Canada\"')).all()"
   ]
  },
  {
   "cell_type": "code",
   "execution_count": 41,
   "metadata": {},
   "outputs": [
    {
     "name": "stdout",
     "output_type": "stream",
     "text": [
      "2020-08-18 10:25:54,638 INFO sqlalchemy.engine.base.Engine SELECT \"Invoice\".\"InvoiceId\" AS \"Invoice_InvoiceId\", \"Invoice\".\"CustomerId\" AS \"Invoice_CustomerId\", \"Invoice\".\"InvoiceDate\" AS \"Invoice_InvoiceDate\", \"Invoice\".\"BillingAddress\" AS \"Invoice_BillingAddress\", \"Invoice\".\"BillingCity\" AS \"Invoice_BillingCity\", \"Invoice\".\"BillingState\" AS \"Invoice_BillingState\", \"Invoice\".\"BillingCountry\" AS \"Invoice_BillingCountry\", \"Invoice\".\"BillingPostalCode\" AS \"Invoice_BillingPostalCode\", \"Invoice\".\"Total\" AS \"Invoice_Total\" \n",
      "FROM \"Invoice\" \n",
      "WHERE strftime('%Y',InvoiceDate) = '2010'\n",
      "2020-08-18 10:25:54,639 INFO sqlalchemy.engine.base.Engine ()\n"
     ]
    },
    {
     "data": {
      "text/plain": [
       "[<__main__.Invoice at 0x120e49bc940>,\n",
       " <__main__.Invoice at 0x120e49bca00>,\n",
       " <__main__.Invoice at 0x120e49bcac0>,\n",
       " <__main__.Invoice at 0x120e49bcb80>,\n",
       " <__main__.Invoice at 0x120e49bcc40>,\n",
       " <__main__.Invoice at 0x120e49bcd00>,\n",
       " <__main__.Invoice at 0x120e49bcdc0>,\n",
       " <__main__.Invoice at 0x120e49bce80>,\n",
       " <__main__.Invoice at 0x120e49bcf40>,\n",
       " <__main__.Invoice at 0x120e49b5040>,\n",
       " <__main__.Invoice at 0x120e49b5100>,\n",
       " <__main__.Invoice at 0x120e49b51c0>,\n",
       " <__main__.Invoice at 0x120e49b5280>,\n",
       " <__main__.Invoice at 0x120e49b5340>,\n",
       " <__main__.Invoice at 0x120e49b5400>,\n",
       " <__main__.Invoice at 0x120e49b54c0>,\n",
       " <__main__.Invoice at 0x120e49b5580>,\n",
       " <__main__.Invoice at 0x120e49b5640>,\n",
       " <__main__.Invoice at 0x120e49b5700>,\n",
       " <__main__.Invoice at 0x120e49b57c0>,\n",
       " <__main__.Invoice at 0x120e49b5880>,\n",
       " <__main__.Invoice at 0x120e49b5940>,\n",
       " <__main__.Invoice at 0x120e49b5a00>,\n",
       " <__main__.Invoice at 0x120e49b5ac0>,\n",
       " <__main__.Invoice at 0x120e49b5b80>,\n",
       " <__main__.Invoice at 0x120e49b5c40>,\n",
       " <__main__.Invoice at 0x120e49b5d00>,\n",
       " <__main__.Invoice at 0x120e49b5dc0>,\n",
       " <__main__.Invoice at 0x120e49b5e80>,\n",
       " <__main__.Invoice at 0x120e49b5f40>,\n",
       " <__main__.Invoice at 0x120e49cf040>,\n",
       " <__main__.Invoice at 0x120e49cf100>,\n",
       " <__main__.Invoice at 0x120e49cf1c0>,\n",
       " <__main__.Invoice at 0x120e49cf280>,\n",
       " <__main__.Invoice at 0x120e49cf340>,\n",
       " <__main__.Invoice at 0x120e49cf400>,\n",
       " <__main__.Invoice at 0x120e49cf4c0>,\n",
       " <__main__.Invoice at 0x120e49cf580>,\n",
       " <__main__.Invoice at 0x120e49cf640>,\n",
       " <__main__.Invoice at 0x120e49cf700>,\n",
       " <__main__.Invoice at 0x120e49cf7c0>,\n",
       " <__main__.Invoice at 0x120e49cf880>,\n",
       " <__main__.Invoice at 0x120e49cf940>,\n",
       " <__main__.Invoice at 0x120e49cfa00>,\n",
       " <__main__.Invoice at 0x120e49cfac0>,\n",
       " <__main__.Invoice at 0x120e49cfb80>,\n",
       " <__main__.Invoice at 0x120e49cfc40>,\n",
       " <__main__.Invoice at 0x120e49cfd00>,\n",
       " <__main__.Invoice at 0x120e49cfdc0>,\n",
       " <__main__.Invoice at 0x120e49cfe80>,\n",
       " <__main__.Invoice at 0x120e49cff40>,\n",
       " <__main__.Invoice at 0x120e49c8040>,\n",
       " <__main__.Invoice at 0x120e49c8100>,\n",
       " <__main__.Invoice at 0x120e49c81c0>,\n",
       " <__main__.Invoice at 0x120e49c8280>,\n",
       " <__main__.Invoice at 0x120e49c8340>,\n",
       " <__main__.Invoice at 0x120e49c8400>,\n",
       " <__main__.Invoice at 0x120e49c84c0>,\n",
       " <__main__.Invoice at 0x120e49c8580>,\n",
       " <__main__.Invoice at 0x120e49c8640>,\n",
       " <__main__.Invoice at 0x120e49c8700>,\n",
       " <__main__.Invoice at 0x120e49c87c0>,\n",
       " <__main__.Invoice at 0x120e49c8880>,\n",
       " <__main__.Invoice at 0x120e49c8940>,\n",
       " <__main__.Invoice at 0x120e49c8a00>,\n",
       " <__main__.Invoice at 0x120e49c8ac0>,\n",
       " <__main__.Invoice at 0x120e49c8b80>,\n",
       " <__main__.Invoice at 0x120e49c8c40>,\n",
       " <__main__.Invoice at 0x120e49c8d00>,\n",
       " <__main__.Invoice at 0x120e49c8dc0>,\n",
       " <__main__.Invoice at 0x120e49c8e80>,\n",
       " <__main__.Invoice at 0x120e49c8f40>,\n",
       " <__main__.Invoice at 0x120e49d2040>,\n",
       " <__main__.Invoice at 0x120e49d2100>,\n",
       " <__main__.Invoice at 0x120e49d21c0>,\n",
       " <__main__.Invoice at 0x120e49d2280>,\n",
       " <__main__.Invoice at 0x120e49d2340>,\n",
       " <__main__.Invoice at 0x120e49d2400>,\n",
       " <__main__.Invoice at 0x120e49d24c0>,\n",
       " <__main__.Invoice at 0x120e49d2580>,\n",
       " <__main__.Invoice at 0x120e49d2640>,\n",
       " <__main__.Invoice at 0x120e49d2700>,\n",
       " <__main__.Invoice at 0x120e49d27c0>]"
      ]
     },
     "execution_count": 41,
     "metadata": {},
     "output_type": "execute_result"
    }
   ],
   "source": [
    "session.query(Invoice).filter(text(\"strftime('%Y',InvoiceDate) = '2010'\")).all()"
   ]
  },
  {
   "cell_type": "code",
   "execution_count": 53,
   "metadata": {},
   "outputs": [],
   "source": [
    "engine = session.get_bind()"
   ]
  },
  {
   "cell_type": "code",
   "execution_count": 57,
   "metadata": {},
   "outputs": [
    {
     "name": "stdout",
     "output_type": "stream",
     "text": [
      "2020-08-18 10:54:09,095 INFO sqlalchemy.engine.base.Engine PRAGMA main.table_info(\"Invoice\")\n",
      "2020-08-18 10:54:09,096 INFO sqlalchemy.engine.base.Engine ()\n"
     ]
    },
    {
     "data": {
      "text/plain": [
       "True"
      ]
     },
     "execution_count": 57,
     "metadata": {},
     "output_type": "execute_result"
    }
   ],
   "source": [
    "engine.has_table(\"Invoice\")"
   ]
  },
  {
   "cell_type": "code",
   "execution_count": 58,
   "metadata": {},
   "outputs": [
    {
     "name": "stdout",
     "output_type": "stream",
     "text": [
      "2020-08-18 10:54:47,612 INFO sqlalchemy.engine.base.Engine SELECT name FROM sqlite_master WHERE type='table' ORDER BY name\n",
      "2020-08-18 10:54:47,613 INFO sqlalchemy.engine.base.Engine ()\n"
     ]
    },
    {
     "data": {
      "text/plain": [
       "['Album',\n",
       " 'Artist',\n",
       " 'Customer',\n",
       " 'Employee',\n",
       " 'Genre',\n",
       " 'Invoice',\n",
       " 'InvoiceLine',\n",
       " 'MediaType',\n",
       " 'Playlist',\n",
       " 'PlaylistTrack',\n",
       " 'Track']"
      ]
     },
     "execution_count": 58,
     "metadata": {},
     "output_type": "execute_result"
    }
   ],
   "source": [
    "engine.table_names()"
   ]
  },
  {
   "cell_type": "code",
   "execution_count": 60,
   "metadata": {},
   "outputs": [],
   "source": [
    "import sqlalchemy"
   ]
  },
  {
   "cell_type": "code",
   "execution_count": 61,
   "metadata": {},
   "outputs": [
    {
     "name": "stdout",
     "output_type": "stream",
     "text": [
      "2020-08-18 10:57:31,583 INFO sqlalchemy.engine.base.Engine PRAGMA main.table_info(\"Invoice\")\n",
      "2020-08-18 10:57:31,584 INFO sqlalchemy.engine.base.Engine ()\n",
      "2020-08-18 10:57:31,586 INFO sqlalchemy.engine.base.Engine SELECT sql FROM  (SELECT * FROM sqlite_master UNION ALL   SELECT * FROM sqlite_temp_master) WHERE name = 'Invoice' AND type = 'table'\n",
      "2020-08-18 10:57:31,587 INFO sqlalchemy.engine.base.Engine ()\n",
      "2020-08-18 10:57:31,589 INFO sqlalchemy.engine.base.Engine PRAGMA main.foreign_key_list(\"Invoice\")\n",
      "2020-08-18 10:57:31,590 INFO sqlalchemy.engine.base.Engine ()\n",
      "2020-08-18 10:57:31,591 INFO sqlalchemy.engine.base.Engine SELECT sql FROM  (SELECT * FROM sqlite_master UNION ALL   SELECT * FROM sqlite_temp_master) WHERE name = 'Invoice' AND type = 'table'\n",
      "2020-08-18 10:57:31,591 INFO sqlalchemy.engine.base.Engine ()\n",
      "2020-08-18 10:57:31,592 INFO sqlalchemy.engine.base.Engine PRAGMA main.table_info(\"Customer\")\n",
      "2020-08-18 10:57:31,593 INFO sqlalchemy.engine.base.Engine ()\n",
      "2020-08-18 10:57:31,595 INFO sqlalchemy.engine.base.Engine SELECT sql FROM  (SELECT * FROM sqlite_master UNION ALL   SELECT * FROM sqlite_temp_master) WHERE name = 'Customer' AND type = 'table'\n",
      "2020-08-18 10:57:31,596 INFO sqlalchemy.engine.base.Engine ()\n",
      "2020-08-18 10:57:31,597 INFO sqlalchemy.engine.base.Engine PRAGMA main.foreign_key_list(\"Customer\")\n",
      "2020-08-18 10:57:31,598 INFO sqlalchemy.engine.base.Engine ()\n",
      "2020-08-18 10:57:31,599 INFO sqlalchemy.engine.base.Engine SELECT sql FROM  (SELECT * FROM sqlite_master UNION ALL   SELECT * FROM sqlite_temp_master) WHERE name = 'Customer' AND type = 'table'\n",
      "2020-08-18 10:57:31,599 INFO sqlalchemy.engine.base.Engine ()\n",
      "2020-08-18 10:57:31,600 INFO sqlalchemy.engine.base.Engine PRAGMA main.table_info(\"Employee\")\n",
      "2020-08-18 10:57:31,601 INFO sqlalchemy.engine.base.Engine ()\n",
      "2020-08-18 10:57:31,604 INFO sqlalchemy.engine.base.Engine SELECT sql FROM  (SELECT * FROM sqlite_master UNION ALL   SELECT * FROM sqlite_temp_master) WHERE name = 'Employee' AND type = 'table'\n",
      "2020-08-18 10:57:31,604 INFO sqlalchemy.engine.base.Engine ()\n",
      "2020-08-18 10:57:31,606 INFO sqlalchemy.engine.base.Engine PRAGMA main.foreign_key_list(\"Employee\")\n",
      "2020-08-18 10:57:31,606 INFO sqlalchemy.engine.base.Engine ()\n",
      "2020-08-18 10:57:31,607 INFO sqlalchemy.engine.base.Engine SELECT sql FROM  (SELECT * FROM sqlite_master UNION ALL   SELECT * FROM sqlite_temp_master) WHERE name = 'Employee' AND type = 'table'\n",
      "2020-08-18 10:57:31,608 INFO sqlalchemy.engine.base.Engine ()\n",
      "2020-08-18 10:57:31,609 INFO sqlalchemy.engine.base.Engine PRAGMA main.index_list(\"Employee\")\n",
      "2020-08-18 10:57:31,611 INFO sqlalchemy.engine.base.Engine ()\n",
      "2020-08-18 10:57:31,612 INFO sqlalchemy.engine.base.Engine PRAGMA main.index_info(\"IFK_EmployeeReportsTo\")\n",
      "2020-08-18 10:57:31,612 INFO sqlalchemy.engine.base.Engine ()\n",
      "2020-08-18 10:57:31,613 INFO sqlalchemy.engine.base.Engine PRAGMA main.index_info(\"IPK_Employee\")\n",
      "2020-08-18 10:57:31,614 INFO sqlalchemy.engine.base.Engine ()\n",
      "2020-08-18 10:57:31,615 INFO sqlalchemy.engine.base.Engine PRAGMA main.index_list(\"Employee\")\n",
      "2020-08-18 10:57:31,616 INFO sqlalchemy.engine.base.Engine ()\n",
      "2020-08-18 10:57:31,617 INFO sqlalchemy.engine.base.Engine PRAGMA main.index_info(\"IFK_EmployeeReportsTo\")\n",
      "2020-08-18 10:57:31,618 INFO sqlalchemy.engine.base.Engine ()\n",
      "2020-08-18 10:57:31,619 INFO sqlalchemy.engine.base.Engine PRAGMA main.index_info(\"IPK_Employee\")\n",
      "2020-08-18 10:57:31,620 INFO sqlalchemy.engine.base.Engine ()\n",
      "2020-08-18 10:57:31,621 INFO sqlalchemy.engine.base.Engine SELECT sql FROM  (SELECT * FROM sqlite_master UNION ALL   SELECT * FROM sqlite_temp_master) WHERE name = 'Employee' AND type = 'table'\n",
      "2020-08-18 10:57:31,621 INFO sqlalchemy.engine.base.Engine ()\n",
      "2020-08-18 10:57:31,623 INFO sqlalchemy.engine.base.Engine PRAGMA main.index_list(\"Customer\")\n",
      "2020-08-18 10:57:31,623 INFO sqlalchemy.engine.base.Engine ()\n",
      "2020-08-18 10:57:31,625 INFO sqlalchemy.engine.base.Engine PRAGMA main.index_info(\"IFK_CustomerSupportRepId\")\n",
      "2020-08-18 10:57:31,625 INFO sqlalchemy.engine.base.Engine ()\n",
      "2020-08-18 10:57:31,627 INFO sqlalchemy.engine.base.Engine PRAGMA main.index_info(\"IPK_Customer\")\n",
      "2020-08-18 10:57:31,628 INFO sqlalchemy.engine.base.Engine ()\n",
      "2020-08-18 10:57:31,630 INFO sqlalchemy.engine.base.Engine PRAGMA main.index_list(\"Customer\")\n",
      "2020-08-18 10:57:31,631 INFO sqlalchemy.engine.base.Engine ()\n",
      "2020-08-18 10:57:31,632 INFO sqlalchemy.engine.base.Engine PRAGMA main.index_info(\"IFK_CustomerSupportRepId\")\n",
      "2020-08-18 10:57:31,633 INFO sqlalchemy.engine.base.Engine ()\n",
      "2020-08-18 10:57:31,634 INFO sqlalchemy.engine.base.Engine PRAGMA main.index_info(\"IPK_Customer\")\n",
      "2020-08-18 10:57:31,635 INFO sqlalchemy.engine.base.Engine ()\n",
      "2020-08-18 10:57:31,636 INFO sqlalchemy.engine.base.Engine SELECT sql FROM  (SELECT * FROM sqlite_master UNION ALL   SELECT * FROM sqlite_temp_master) WHERE name = 'Customer' AND type = 'table'\n",
      "2020-08-18 10:57:31,637 INFO sqlalchemy.engine.base.Engine ()\n",
      "2020-08-18 10:57:31,639 INFO sqlalchemy.engine.base.Engine PRAGMA main.index_list(\"Invoice\")\n",
      "2020-08-18 10:57:31,640 INFO sqlalchemy.engine.base.Engine ()\n",
      "2020-08-18 10:57:31,641 INFO sqlalchemy.engine.base.Engine PRAGMA main.index_info(\"IFK_InvoiceCustomerId\")\n",
      "2020-08-18 10:57:31,641 INFO sqlalchemy.engine.base.Engine ()\n",
      "2020-08-18 10:57:31,642 INFO sqlalchemy.engine.base.Engine PRAGMA main.index_info(\"IPK_Invoice\")\n",
      "2020-08-18 10:57:31,643 INFO sqlalchemy.engine.base.Engine ()\n",
      "2020-08-18 10:57:31,645 INFO sqlalchemy.engine.base.Engine PRAGMA main.index_list(\"Invoice\")\n",
      "2020-08-18 10:57:31,645 INFO sqlalchemy.engine.base.Engine ()\n",
      "2020-08-18 10:57:31,646 INFO sqlalchemy.engine.base.Engine PRAGMA main.index_info(\"IFK_InvoiceCustomerId\")\n",
      "2020-08-18 10:57:31,648 INFO sqlalchemy.engine.base.Engine ()\n",
      "2020-08-18 10:57:31,649 INFO sqlalchemy.engine.base.Engine PRAGMA main.index_info(\"IPK_Invoice\")\n",
      "2020-08-18 10:57:31,650 INFO sqlalchemy.engine.base.Engine ()\n",
      "2020-08-18 10:57:31,651 INFO sqlalchemy.engine.base.Engine SELECT sql FROM  (SELECT * FROM sqlite_master UNION ALL   SELECT * FROM sqlite_temp_master) WHERE name = 'Invoice' AND type = 'table'\n",
      "2020-08-18 10:57:31,652 INFO sqlalchemy.engine.base.Engine ()\n"
     ]
    }
   ],
   "source": [
    "md = sqlalchemy.MetaData()\n",
    "table = sqlalchemy.Table('Invoice', md, autoload=True, autoload_with=engine)\n",
    "columns = table.c"
   ]
  },
  {
   "cell_type": "code",
   "execution_count": 63,
   "metadata": {},
   "outputs": [
    {
     "data": {
      "text/plain": [
       "[Column('InvoiceId', INTEGER(), table=<Invoice>, primary_key=True, nullable=False),\n",
       " Column('CustomerId', INTEGER(), ForeignKey('Customer.CustomerId'), table=<Invoice>, nullable=False),\n",
       " Column('InvoiceDate', DATETIME(), table=<Invoice>, nullable=False),\n",
       " Column('BillingAddress', NVARCHAR(length=70), table=<Invoice>),\n",
       " Column('BillingCity', NVARCHAR(length=40), table=<Invoice>),\n",
       " Column('BillingState', NVARCHAR(length=40), table=<Invoice>),\n",
       " Column('BillingCountry', NVARCHAR(length=40), table=<Invoice>),\n",
       " Column('BillingPostalCode', NVARCHAR(length=10), table=<Invoice>),\n",
       " Column('Total', NUMERIC(precision=10, scale=2), table=<Invoice>, nullable=False)]"
      ]
     },
     "execution_count": 63,
     "metadata": {},
     "output_type": "execute_result"
    }
   ],
   "source": [
    "[c for c in columns]"
   ]
  },
  {
   "cell_type": "code",
   "execution_count": 77,
   "metadata": {},
   "outputs": [
    {
     "name": "stdout",
     "output_type": "stream",
     "text": [
      "2020-08-18 12:02:57,981 INFO sqlalchemy.engine.base.Engine SELECT \"Invoice\".\"InvoiceId\" AS \"Invoice_InvoiceId\", \"Invoice\".\"CustomerId\" AS \"Invoice_CustomerId\", \"Invoice\".\"InvoiceDate\" AS \"Invoice_InvoiceDate\", \"Invoice\".\"BillingAddress\" AS \"Invoice_BillingAddress\", \"Invoice\".\"BillingCity\" AS \"Invoice_BillingCity\", \"Invoice\".\"BillingState\" AS \"Invoice_BillingState\", \"Invoice\".\"BillingCountry\" AS \"Invoice_BillingCountry\", \"Invoice\".\"BillingPostalCode\" AS \"Invoice_BillingPostalCode\", \"Invoice\".\"Total\" AS \"Invoice_Total\" \n",
      "FROM \"Invoice\" \n",
      "WHERE date(InvoiceDate) between date('2010-01-01') and date('2011-12-31')\n",
      "2020-08-18 12:02:57,983 INFO sqlalchemy.engine.base.Engine ()\n"
     ]
    },
    {
     "data": {
      "text/plain": [
       "[datetime.datetime(2010, 1, 8, 0, 0),\n",
       " datetime.datetime(2010, 1, 8, 0, 0),\n",
       " datetime.datetime(2010, 1, 9, 0, 0),\n",
       " datetime.datetime(2010, 1, 10, 0, 0),\n",
       " datetime.datetime(2010, 1, 13, 0, 0),\n",
       " datetime.datetime(2010, 1, 18, 0, 0),\n",
       " datetime.datetime(2010, 1, 26, 0, 0),\n",
       " datetime.datetime(2010, 2, 8, 0, 0),\n",
       " datetime.datetime(2010, 2, 8, 0, 0),\n",
       " datetime.datetime(2010, 2, 9, 0, 0),\n",
       " datetime.datetime(2010, 2, 10, 0, 0),\n",
       " datetime.datetime(2010, 2, 13, 0, 0),\n",
       " datetime.datetime(2010, 2, 18, 0, 0),\n",
       " datetime.datetime(2010, 2, 26, 0, 0),\n",
       " datetime.datetime(2010, 3, 11, 0, 0),\n",
       " datetime.datetime(2010, 3, 11, 0, 0),\n",
       " datetime.datetime(2010, 3, 12, 0, 0),\n",
       " datetime.datetime(2010, 3, 13, 0, 0),\n",
       " datetime.datetime(2010, 3, 16, 0, 0),\n",
       " datetime.datetime(2010, 3, 21, 0, 0),\n",
       " datetime.datetime(2010, 3, 29, 0, 0),\n",
       " datetime.datetime(2010, 4, 11, 0, 0),\n",
       " datetime.datetime(2010, 4, 11, 0, 0),\n",
       " datetime.datetime(2010, 4, 12, 0, 0),\n",
       " datetime.datetime(2010, 4, 13, 0, 0),\n",
       " datetime.datetime(2010, 4, 16, 0, 0),\n",
       " datetime.datetime(2010, 4, 21, 0, 0),\n",
       " datetime.datetime(2010, 4, 29, 0, 0),\n",
       " datetime.datetime(2010, 5, 12, 0, 0),\n",
       " datetime.datetime(2010, 5, 12, 0, 0),\n",
       " datetime.datetime(2010, 5, 13, 0, 0),\n",
       " datetime.datetime(2010, 5, 14, 0, 0),\n",
       " datetime.datetime(2010, 5, 17, 0, 0),\n",
       " datetime.datetime(2010, 5, 22, 0, 0),\n",
       " datetime.datetime(2010, 5, 30, 0, 0),\n",
       " datetime.datetime(2010, 6, 12, 0, 0),\n",
       " datetime.datetime(2010, 6, 12, 0, 0),\n",
       " datetime.datetime(2010, 6, 13, 0, 0),\n",
       " datetime.datetime(2010, 6, 14, 0, 0),\n",
       " datetime.datetime(2010, 6, 17, 0, 0),\n",
       " datetime.datetime(2010, 6, 22, 0, 0),\n",
       " datetime.datetime(2010, 6, 30, 0, 0),\n",
       " datetime.datetime(2010, 7, 13, 0, 0),\n",
       " datetime.datetime(2010, 7, 13, 0, 0),\n",
       " datetime.datetime(2010, 7, 14, 0, 0),\n",
       " datetime.datetime(2010, 7, 15, 0, 0),\n",
       " datetime.datetime(2010, 7, 18, 0, 0),\n",
       " datetime.datetime(2010, 7, 23, 0, 0),\n",
       " datetime.datetime(2010, 7, 31, 0, 0),\n",
       " datetime.datetime(2010, 8, 13, 0, 0),\n",
       " datetime.datetime(2010, 8, 13, 0, 0),\n",
       " datetime.datetime(2010, 8, 14, 0, 0),\n",
       " datetime.datetime(2010, 8, 15, 0, 0),\n",
       " datetime.datetime(2010, 8, 18, 0, 0),\n",
       " datetime.datetime(2010, 8, 23, 0, 0),\n",
       " datetime.datetime(2010, 8, 31, 0, 0),\n",
       " datetime.datetime(2010, 9, 13, 0, 0),\n",
       " datetime.datetime(2010, 9, 13, 0, 0),\n",
       " datetime.datetime(2010, 9, 14, 0, 0),\n",
       " datetime.datetime(2010, 9, 15, 0, 0),\n",
       " datetime.datetime(2010, 9, 18, 0, 0),\n",
       " datetime.datetime(2010, 9, 23, 0, 0),\n",
       " datetime.datetime(2010, 10, 1, 0, 0),\n",
       " datetime.datetime(2010, 10, 14, 0, 0),\n",
       " datetime.datetime(2010, 10, 14, 0, 0),\n",
       " datetime.datetime(2010, 10, 15, 0, 0),\n",
       " datetime.datetime(2010, 10, 16, 0, 0),\n",
       " datetime.datetime(2010, 10, 19, 0, 0),\n",
       " datetime.datetime(2010, 10, 24, 0, 0),\n",
       " datetime.datetime(2010, 11, 1, 0, 0),\n",
       " datetime.datetime(2010, 11, 14, 0, 0),\n",
       " datetime.datetime(2010, 11, 14, 0, 0),\n",
       " datetime.datetime(2010, 11, 15, 0, 0),\n",
       " datetime.datetime(2010, 11, 16, 0, 0),\n",
       " datetime.datetime(2010, 11, 19, 0, 0),\n",
       " datetime.datetime(2010, 11, 24, 0, 0),\n",
       " datetime.datetime(2010, 12, 2, 0, 0),\n",
       " datetime.datetime(2010, 12, 15, 0, 0),\n",
       " datetime.datetime(2010, 12, 15, 0, 0),\n",
       " datetime.datetime(2010, 12, 16, 0, 0),\n",
       " datetime.datetime(2010, 12, 17, 0, 0),\n",
       " datetime.datetime(2010, 12, 20, 0, 0),\n",
       " datetime.datetime(2010, 12, 25, 0, 0),\n",
       " datetime.datetime(2011, 1, 2, 0, 0),\n",
       " datetime.datetime(2011, 1, 15, 0, 0),\n",
       " datetime.datetime(2011, 1, 15, 0, 0),\n",
       " datetime.datetime(2011, 1, 16, 0, 0),\n",
       " datetime.datetime(2011, 1, 17, 0, 0),\n",
       " datetime.datetime(2011, 1, 20, 0, 0),\n",
       " datetime.datetime(2011, 1, 25, 0, 0),\n",
       " datetime.datetime(2011, 2, 2, 0, 0),\n",
       " datetime.datetime(2011, 2, 15, 0, 0),\n",
       " datetime.datetime(2011, 2, 15, 0, 0),\n",
       " datetime.datetime(2011, 2, 16, 0, 0),\n",
       " datetime.datetime(2011, 2, 17, 0, 0),\n",
       " datetime.datetime(2011, 2, 20, 0, 0),\n",
       " datetime.datetime(2011, 2, 25, 0, 0),\n",
       " datetime.datetime(2011, 3, 5, 0, 0),\n",
       " datetime.datetime(2011, 3, 18, 0, 0),\n",
       " datetime.datetime(2011, 3, 18, 0, 0),\n",
       " datetime.datetime(2011, 3, 19, 0, 0),\n",
       " datetime.datetime(2011, 3, 20, 0, 0),\n",
       " datetime.datetime(2011, 3, 23, 0, 0),\n",
       " datetime.datetime(2011, 3, 28, 0, 0),\n",
       " datetime.datetime(2011, 4, 5, 0, 0),\n",
       " datetime.datetime(2011, 4, 18, 0, 0),\n",
       " datetime.datetime(2011, 4, 18, 0, 0),\n",
       " datetime.datetime(2011, 4, 19, 0, 0),\n",
       " datetime.datetime(2011, 4, 20, 0, 0),\n",
       " datetime.datetime(2011, 4, 23, 0, 0),\n",
       " datetime.datetime(2011, 4, 28, 0, 0),\n",
       " datetime.datetime(2011, 5, 6, 0, 0),\n",
       " datetime.datetime(2011, 5, 19, 0, 0),\n",
       " datetime.datetime(2011, 5, 19, 0, 0),\n",
       " datetime.datetime(2011, 5, 20, 0, 0),\n",
       " datetime.datetime(2011, 5, 21, 0, 0),\n",
       " datetime.datetime(2011, 5, 24, 0, 0),\n",
       " datetime.datetime(2011, 5, 29, 0, 0),\n",
       " datetime.datetime(2011, 6, 6, 0, 0),\n",
       " datetime.datetime(2011, 6, 19, 0, 0),\n",
       " datetime.datetime(2011, 6, 19, 0, 0),\n",
       " datetime.datetime(2011, 6, 20, 0, 0),\n",
       " datetime.datetime(2011, 6, 21, 0, 0),\n",
       " datetime.datetime(2011, 6, 24, 0, 0),\n",
       " datetime.datetime(2011, 6, 29, 0, 0),\n",
       " datetime.datetime(2011, 7, 7, 0, 0),\n",
       " datetime.datetime(2011, 7, 20, 0, 0),\n",
       " datetime.datetime(2011, 7, 20, 0, 0),\n",
       " datetime.datetime(2011, 7, 21, 0, 0),\n",
       " datetime.datetime(2011, 7, 22, 0, 0),\n",
       " datetime.datetime(2011, 7, 25, 0, 0),\n",
       " datetime.datetime(2011, 7, 30, 0, 0),\n",
       " datetime.datetime(2011, 8, 7, 0, 0),\n",
       " datetime.datetime(2011, 8, 20, 0, 0),\n",
       " datetime.datetime(2011, 8, 20, 0, 0),\n",
       " datetime.datetime(2011, 8, 21, 0, 0),\n",
       " datetime.datetime(2011, 8, 22, 0, 0),\n",
       " datetime.datetime(2011, 8, 25, 0, 0),\n",
       " datetime.datetime(2011, 8, 30, 0, 0),\n",
       " datetime.datetime(2011, 9, 7, 0, 0),\n",
       " datetime.datetime(2011, 9, 20, 0, 0),\n",
       " datetime.datetime(2011, 9, 20, 0, 0),\n",
       " datetime.datetime(2011, 9, 21, 0, 0),\n",
       " datetime.datetime(2011, 9, 22, 0, 0),\n",
       " datetime.datetime(2011, 9, 25, 0, 0),\n",
       " datetime.datetime(2011, 9, 30, 0, 0),\n",
       " datetime.datetime(2011, 10, 8, 0, 0),\n",
       " datetime.datetime(2011, 10, 21, 0, 0),\n",
       " datetime.datetime(2011, 10, 21, 0, 0),\n",
       " datetime.datetime(2011, 10, 22, 0, 0),\n",
       " datetime.datetime(2011, 10, 23, 0, 0),\n",
       " datetime.datetime(2011, 10, 26, 0, 0),\n",
       " datetime.datetime(2011, 10, 31, 0, 0),\n",
       " datetime.datetime(2011, 11, 8, 0, 0),\n",
       " datetime.datetime(2011, 11, 21, 0, 0),\n",
       " datetime.datetime(2011, 11, 21, 0, 0),\n",
       " datetime.datetime(2011, 11, 22, 0, 0),\n",
       " datetime.datetime(2011, 11, 23, 0, 0),\n",
       " datetime.datetime(2011, 11, 26, 0, 0),\n",
       " datetime.datetime(2011, 12, 1, 0, 0),\n",
       " datetime.datetime(2011, 12, 9, 0, 0),\n",
       " datetime.datetime(2011, 12, 22, 0, 0),\n",
       " datetime.datetime(2011, 12, 22, 0, 0),\n",
       " datetime.datetime(2011, 12, 23, 0, 0),\n",
       " datetime.datetime(2011, 12, 24, 0, 0),\n",
       " datetime.datetime(2011, 12, 27, 0, 0)]"
      ]
     },
     "execution_count": 77,
     "metadata": {},
     "output_type": "execute_result"
    }
   ],
   "source": [
    "[r.InvoiceDate for r in session.query(Invoice).filter(text(\"date(InvoiceDate) between date('2010-01-01') and date('2011-12-31')\")).all()]"
   ]
  },
  {
   "cell_type": "code",
   "execution_count": 75,
   "metadata": {},
   "outputs": [
    {
     "data": {
      "text/plain": [
       "datetime.datetime(2010, 1, 8, 0, 0)"
      ]
     },
     "execution_count": 75,
     "metadata": {},
     "output_type": "execute_result"
    }
   ],
   "source": []
  }
 ],
 "metadata": {
  "kernelspec": {
   "display_name": "Python 3",
   "language": "python",
   "name": "python3"
  },
  "language_info": {
   "codemirror_mode": {
    "name": "ipython",
    "version": 3
   },
   "file_extension": ".py",
   "mimetype": "text/x-python",
   "name": "python",
   "nbconvert_exporter": "python",
   "pygments_lexer": "ipython3",
   "version": "3.8.5"
  }
 },
 "nbformat": 4,
 "nbformat_minor": 4
}
